{
 "cells": [
  {
   "cell_type": "code",
   "execution_count": 1,
   "metadata": {},
   "outputs": [],
   "source": [
    "\n",
    "# performing linear algebra \n",
    "import numpy as np  \n",
    "  \n",
    "# data processing \n",
    "import pandas as pd \n",
    "  \n",
    "# visualisation \n",
    "import matplotlib.pyplot as plt \n",
    "import seaborn as sns \n",
    "%matplotlib inline \n",
    "from sklearn.model_selection import validation_curve"
   ]
  },
  {
   "cell_type": "code",
   "execution_count": 2,
   "metadata": {},
   "outputs": [
    {
     "name": "stdout",
     "output_type": "stream",
     "text": [
      "<bound method NDFrame.head of       satisfaction_level  left  last_evaluation  number_project  \\\n",
      "0                   0.11     1             0.85               6   \n",
      "1                   0.11     1             0.85               6   \n",
      "2                   0.11     1             0.85               6   \n",
      "3                   0.37     0             0.82               3   \n",
      "4                   0.46     1             0.48               2   \n",
      "...                  ...   ...              ...             ...   \n",
      "4495                0.63     0             0.85               3   \n",
      "4496                0.59     0             0.91               4   \n",
      "4497                0.68     0             0.72               4   \n",
      "4498                0.66     0             0.75               4   \n",
      "4499                0.63     0             0.94               3   \n",
      "\n",
      "      average_montly_hours  time_spend_company  Work_accident  \\\n",
      "0                      308                   5              0   \n",
      "1                      308                   5              0   \n",
      "2                      308                   5              0   \n",
      "3                      199                   5              0   \n",
      "4                      141                   3              1   \n",
      "...                    ...                 ...            ...   \n",
      "4495                   151                   4              1   \n",
      "4496                   142                   3              1   \n",
      "4497                   274                   3              0   \n",
      "4498                   203                   3              1   \n",
      "4499                   237                   3              1   \n",
      "\n",
      "      promotion_last_5years   Department  salary  \n",
      "0                         0        sales  medium  \n",
      "1                         0        sales  medium  \n",
      "2                         0        sales  medium  \n",
      "3                         0   management  medium  \n",
      "4                         0        sales     low  \n",
      "...                     ...          ...     ...  \n",
      "4495                      0  product_mng  medium  \n",
      "4496                      0      support  medium  \n",
      "4497                      0    technical  medium  \n",
      "4498                      0           IT     low  \n",
      "4499                      0        RandD  medium  \n",
      "\n",
      "[4500 rows x 10 columns]>\n"
     ]
    }
   ],
   "source": [
    "\n",
    "dataset = pd.read_csv(\"class B.csv\") \n",
    "print (dataset.head) "
   ]
  },
  {
   "cell_type": "code",
   "execution_count": 3,
   "metadata": {},
   "outputs": [
    {
     "name": "stdout",
     "output_type": "stream",
     "text": [
      "<class 'pandas.core.frame.DataFrame'>\n",
      "RangeIndex: 4500 entries, 0 to 4499\n",
      "Data columns (total 10 columns):\n",
      " #   Column                 Non-Null Count  Dtype  \n",
      "---  ------                 --------------  -----  \n",
      " 0   satisfaction_level     4500 non-null   float64\n",
      " 1   left                   4500 non-null   int64  \n",
      " 2   last_evaluation        4500 non-null   float64\n",
      " 3   number_project         4500 non-null   int64  \n",
      " 4   average_montly_hours   4500 non-null   int64  \n",
      " 5   time_spend_company     4500 non-null   int64  \n",
      " 6   Work_accident          4500 non-null   int64  \n",
      " 7   promotion_last_5years  4500 non-null   int64  \n",
      " 8   Department             4500 non-null   object \n",
      " 9   salary                 4500 non-null   object \n",
      "dtypes: float64(2), int64(6), object(2)\n",
      "memory usage: 351.7+ KB\n"
     ]
    }
   ],
   "source": [
    "dataset.info()"
   ]
  },
  {
   "cell_type": "code",
   "execution_count": 4,
   "metadata": {},
   "outputs": [
    {
     "data": {
      "text/html": [
       "<div>\n",
       "<style scoped>\n",
       "    .dataframe tbody tr th:only-of-type {\n",
       "        vertical-align: middle;\n",
       "    }\n",
       "\n",
       "    .dataframe tbody tr th {\n",
       "        vertical-align: top;\n",
       "    }\n",
       "\n",
       "    .dataframe thead th {\n",
       "        text-align: right;\n",
       "    }\n",
       "</style>\n",
       "<table border=\"1\" class=\"dataframe\">\n",
       "  <thead>\n",
       "    <tr style=\"text-align: right;\">\n",
       "      <th></th>\n",
       "      <th>satisfaction_level</th>\n",
       "      <th>left</th>\n",
       "      <th>last_evaluation</th>\n",
       "      <th>number_project</th>\n",
       "      <th>average_montly_hours</th>\n",
       "      <th>time_spend_company</th>\n",
       "      <th>Work_accident</th>\n",
       "      <th>promotion_last_5years</th>\n",
       "    </tr>\n",
       "  </thead>\n",
       "  <tbody>\n",
       "    <tr>\n",
       "      <th>count</th>\n",
       "      <td>4500.000000</td>\n",
       "      <td>4500.000000</td>\n",
       "      <td>4500.000000</td>\n",
       "      <td>4500.000000</td>\n",
       "      <td>4500.000000</td>\n",
       "      <td>4500.000000</td>\n",
       "      <td>4500.000000</td>\n",
       "      <td>4500.0</td>\n",
       "    </tr>\n",
       "    <tr>\n",
       "      <th>mean</th>\n",
       "      <td>0.482471</td>\n",
       "      <td>0.167556</td>\n",
       "      <td>0.719629</td>\n",
       "      <td>4.037556</td>\n",
       "      <td>207.479333</td>\n",
       "      <td>3.401333</td>\n",
       "      <td>0.152889</td>\n",
       "      <td>0.0</td>\n",
       "    </tr>\n",
       "    <tr>\n",
       "      <th>std</th>\n",
       "      <td>0.172912</td>\n",
       "      <td>0.373513</td>\n",
       "      <td>0.165725</td>\n",
       "      <td>1.343996</td>\n",
       "      <td>51.936454</td>\n",
       "      <td>1.398821</td>\n",
       "      <td>0.359920</td>\n",
       "      <td>0.0</td>\n",
       "    </tr>\n",
       "    <tr>\n",
       "      <th>min</th>\n",
       "      <td>0.090000</td>\n",
       "      <td>0.000000</td>\n",
       "      <td>0.360000</td>\n",
       "      <td>2.000000</td>\n",
       "      <td>96.000000</td>\n",
       "      <td>2.000000</td>\n",
       "      <td>0.000000</td>\n",
       "      <td>0.0</td>\n",
       "    </tr>\n",
       "    <tr>\n",
       "      <th>25%</th>\n",
       "      <td>0.460000</td>\n",
       "      <td>0.000000</td>\n",
       "      <td>0.580000</td>\n",
       "      <td>3.000000</td>\n",
       "      <td>165.000000</td>\n",
       "      <td>2.000000</td>\n",
       "      <td>0.000000</td>\n",
       "      <td>0.0</td>\n",
       "    </tr>\n",
       "    <tr>\n",
       "      <th>50%</th>\n",
       "      <td>0.530000</td>\n",
       "      <td>0.000000</td>\n",
       "      <td>0.720000</td>\n",
       "      <td>4.000000</td>\n",
       "      <td>207.000000</td>\n",
       "      <td>3.000000</td>\n",
       "      <td>0.000000</td>\n",
       "      <td>0.0</td>\n",
       "    </tr>\n",
       "    <tr>\n",
       "      <th>75%</th>\n",
       "      <td>0.600000</td>\n",
       "      <td>0.000000</td>\n",
       "      <td>0.870000</td>\n",
       "      <td>5.000000</td>\n",
       "      <td>253.000000</td>\n",
       "      <td>4.000000</td>\n",
       "      <td>0.000000</td>\n",
       "      <td>0.0</td>\n",
       "    </tr>\n",
       "    <tr>\n",
       "      <th>max</th>\n",
       "      <td>0.720000</td>\n",
       "      <td>1.000000</td>\n",
       "      <td>1.000000</td>\n",
       "      <td>7.000000</td>\n",
       "      <td>310.000000</td>\n",
       "      <td>10.000000</td>\n",
       "      <td>1.000000</td>\n",
       "      <td>0.0</td>\n",
       "    </tr>\n",
       "  </tbody>\n",
       "</table>\n",
       "</div>"
      ],
      "text/plain": [
       "       satisfaction_level         left  last_evaluation  number_project  \\\n",
       "count         4500.000000  4500.000000      4500.000000     4500.000000   \n",
       "mean             0.482471     0.167556         0.719629        4.037556   \n",
       "std              0.172912     0.373513         0.165725        1.343996   \n",
       "min              0.090000     0.000000         0.360000        2.000000   \n",
       "25%              0.460000     0.000000         0.580000        3.000000   \n",
       "50%              0.530000     0.000000         0.720000        4.000000   \n",
       "75%              0.600000     0.000000         0.870000        5.000000   \n",
       "max              0.720000     1.000000         1.000000        7.000000   \n",
       "\n",
       "       average_montly_hours  time_spend_company  Work_accident  \\\n",
       "count           4500.000000         4500.000000    4500.000000   \n",
       "mean             207.479333            3.401333       0.152889   \n",
       "std               51.936454            1.398821       0.359920   \n",
       "min               96.000000            2.000000       0.000000   \n",
       "25%              165.000000            2.000000       0.000000   \n",
       "50%              207.000000            3.000000       0.000000   \n",
       "75%              253.000000            4.000000       0.000000   \n",
       "max              310.000000           10.000000       1.000000   \n",
       "\n",
       "       promotion_last_5years  \n",
       "count                 4500.0  \n",
       "mean                     0.0  \n",
       "std                      0.0  \n",
       "min                      0.0  \n",
       "25%                      0.0  \n",
       "50%                      0.0  \n",
       "75%                      0.0  \n",
       "max                      0.0  "
      ]
     },
     "execution_count": 4,
     "metadata": {},
     "output_type": "execute_result"
    }
   ],
   "source": [
    "dataset.describe()"
   ]
  },
  {
   "cell_type": "code",
   "execution_count": 5,
   "metadata": {},
   "outputs": [
    {
     "data": {
      "text/plain": [
       "<AxesSubplot:>"
      ]
     },
     "execution_count": 5,
     "metadata": {},
     "output_type": "execute_result"
    },
    {
     "data": {
      "image/png": "[encoded data removed]",
      "text/plain": [
       "<Figure size 720x288 with 1 Axes>"
      ]
     },
     "metadata": {
      "needs_background": "light"
     },
     "output_type": "display_data"
    }
   ],
   "source": [
    "# heatmap to check the missing value \n",
    "plt.figure(figsize =(10, 4)) \n",
    "sns.heatmap(dataset.isnull(), yticklabels = False, cbar = False, cmap ='viridis')"
   ]
  },
  {
   "cell_type": "code",
   "execution_count": 6,
   "metadata": {
    "scrolled": true
   },
   "outputs": [
    {
     "data": {
      "text/plain": [
       "<AxesSubplot:xlabel='left', ylabel='count'>"
      ]
     },
     "execution_count": 6,
     "metadata": {},
     "output_type": "execute_result"
    },
    {
     "data": {
      "image/png": "[encoded data removed]",
      "text/plain": [
       "<Figure size 432x288 with 1 Axes>"
      ]
     },
     "metadata": {},
     "output_type": "display_data"
    }
   ],
   "source": [
    "sns.set_style('darkgrid') \n",
    "sns.countplot(x ='left', data = dataset) "
   ]
  },
  {
   "cell_type": "code",
   "execution_count": 7,
   "metadata": {},
   "outputs": [],
   "source": [
    "y = dataset.iloc[:, 1] \n",
    "x = dataset \n",
    "x.drop('left', axis = 1, inplace = True) \n"
   ]
  },
  {
   "cell_type": "code",
   "execution_count": 8,
   "metadata": {},
   "outputs": [],
   "source": [
    "from sklearn.preprocessing import LabelEncoder \n",
    "lb = LabelEncoder() \n",
    "y = lb.fit_transform(y) "
   ]
  },
  {
   "cell_type": "code",
   "execution_count": 9,
   "metadata": {},
   "outputs": [
    {
     "name": "stdout",
     "output_type": "stream",
     "text": [
      "(4500, 20)\n",
      "(4500,)\n"
     ]
    }
   ],
   "source": [
    "\n",
    "dum_Department = pd.get_dummies(dataset['Department'],  \n",
    "                                prefix ='Department') \n",
    "dum_salary = pd.get_dummies(dataset['salary'],  \n",
    "                              prefix ='salary') \n",
    "# Adding these dummy variable to input X \n",
    "X = pd.concat([x,dum_Department, dum_salary], axis = 1) \n",
    "# Removing the categorical data \n",
    "X.drop(['Department', 'salary'],  \n",
    "        axis = 1, inplace = True) \n",
    "  \n",
    "print(X.shape) \n",
    "print(y.shape) "
   ]
  },
  {
   "cell_type": "code",
   "execution_count": 10,
   "metadata": {},
   "outputs": [],
   "source": [
    "from sklearn.model_selection import train_test_split \n",
    "X_train, X_test, y_train, y_test = train_test_split( \n",
    "    X, y, test_size = 0.2, random_state = 40)"
   ]
  },
  {
   "cell_type": "code",
   "execution_count": 11,
   "metadata": {},
   "outputs": [],
   "source": [
    "from sklearn.neighbors import KNeighborsClassifier \n",
    "neighbors = []  \n",
    "cv_scores = []  "
   ]
  },
  {
   "cell_type": "code",
   "execution_count": 12,
   "metadata": {},
   "outputs": [],
   "source": [
    "from sklearn.model_selection import cross_val_score  \n",
    "# perform 10 fold cross validation  \n",
    "for k in range(1, 40, 2):  \n",
    "    neighbors.append(k)  \n",
    "    knn = KNeighborsClassifier(n_neighbors = k)  \n",
    "    scores = cross_val_score(  \n",
    "        knn, X_train, y_train, cv = 10, scoring = 'accuracy')  \n",
    "    cv_scores.append(scores.mean()) \n",
    "error_rate = [1-x for x in cv_scores] "
   ]
  },
  {
   "cell_type": "code",
   "execution_count": 13,
   "metadata": {},
   "outputs": [
    {
     "name": "stdout",
     "output_type": "stream",
     "text": [
      "The optimal number of neighbors is  1 \n"
     ]
    },
    {
     "data": {
      "image/png": "[encoded data removed]",
      "text/plain": [
       "<Figure size 720x432 with 1 Axes>"
      ]
     },
     "metadata": {},
     "output_type": "display_data"
    }
   ],
   "source": [
    "# determining the best k  \n",
    "optimal_k = neighbors[error_rate.index(min(error_rate))]  \n",
    "print('The optimal number of neighbors is % d ' % optimal_k)  \n",
    "    \n",
    "# plot misclassification error versus k  \n",
    "plt.figure(figsize = (10, 6))  \n",
    "plt.plot(range(1, 40, 2), error_rate, color ='blue', linestyle ='dashed', marker ='o', \n",
    "         markerfacecolor ='red', markersize = 10) \n",
    "plt.xlabel('Number of neighbors')  \n",
    "plt.ylabel('Misclassification Error')  \n",
    "plt.show() "
   ]
  },
  {
   "cell_type": "code",
   "execution_count": 14,
   "metadata": {},
   "outputs": [],
   "source": [
    "from sklearn.model_selection import cross_val_predict, cross_val_score \n",
    "from sklearn.metrics import accuracy_score, classification_report \n",
    "from sklearn.metrics import confusion_matrix "
   ]
  },
  {
   "cell_type": "code",
   "execution_count": 15,
   "metadata": {},
   "outputs": [
    {
     "name": "stdout",
     "output_type": "stream",
     "text": [
      "Train Result:\n",
      "------------\n",
      "Classification Report: \n",
      "               precision    recall  f1-score   support\n",
      "\n",
      "           0       0.98      0.97      0.98      2981\n",
      "           1       0.88      0.91      0.90       619\n",
      "\n",
      "    accuracy                           0.96      3600\n",
      "   macro avg       0.93      0.94      0.94      3600\n",
      "weighted avg       0.96      0.96      0.96      3600\n",
      "\n",
      "\n",
      "Confusion Matrix: \n",
      " [[2903   78]\n",
      " [  54  565]]\n",
      "\n",
      "Average Accuracy: \t 0.9425\n",
      "Accuracy SD: \t\t 0.0147\n",
      "accuracy score: 0.9633\n",
      "\n",
      "----------------------------------------------------------\n",
      "Test Result:\n",
      "-----------\n",
      "Classification Report: \n",
      "               precision    recall  f1-score   support\n",
      "\n",
      "           0       0.97      0.96      0.97       765\n",
      "           1       0.79      0.83      0.81       135\n",
      "\n",
      "    accuracy                           0.94       900\n",
      "   macro avg       0.88      0.90      0.89       900\n",
      "weighted avg       0.94      0.94      0.94       900\n",
      "\n",
      "\n",
      "Confusion Matrix: \n",
      " [[735  30]\n",
      " [ 23 112]]\n",
      "\n",
      "accuracy score: 0.9411\n",
      "\n",
      "-----------------------------------------------------------\n"
     ]
    }
   ],
   "source": [
    " def print_score(clf, X_train, y_train, X_test, y_test, train = True): \n",
    "    if train: \n",
    "        print(\"Train Result:\") \n",
    "        print(\"------------\") \n",
    "        print(\"Classification Report: \\n {}\\n\".format(classification_report( \n",
    "                y_train, clf.predict(X_train)))) \n",
    "        print(\"Confusion Matrix: \\n {}\\n\".format(confusion_matrix( \n",
    "                y_train, clf.predict(X_train)))) \n",
    "  \n",
    "        res = cross_val_score(clf, X_train, y_train,  \n",
    "                              cv = 10, scoring ='accuracy') \n",
    "        print(\"Average Accuracy: \\t {0:.4f}\".format(np.mean(res))) \n",
    "        print(\"Accuracy SD: \\t\\t {0:.4f}\".format(np.std(res))) \n",
    "        print(\"accuracy score: {0:.4f}\\n\".format(accuracy_score( \n",
    "                y_train, clf.predict(X_train)))) \n",
    "        print(\"----------------------------------------------------------\") \n",
    "                 \n",
    "    elif train == False: \n",
    "        print(\"Test Result:\") \n",
    "        print(\"-----------\") \n",
    "        print(\"Classification Report: \\n {}\\n\".format( \n",
    "                classification_report(y_test, clf.predict(X_test)))) \n",
    "        print(\"Confusion Matrix: \\n {}\\n\".format( \n",
    "                confusion_matrix(y_test, clf.predict(X_test))))  \n",
    "        print(\"accuracy score: {0:.4f}\\n\".format( \n",
    "                accuracy_score(y_test, clf.predict(X_test)))) \n",
    "        print(\"-----------------------------------------------------------\") \n",
    "          \n",
    "knn = KNeighborsClassifier(n_neighbors = 5) \n",
    "knn.fit(X_train, y_train) \n",
    "print_score(knn, X_train, y_train, X_test, y_test, train = True) \n",
    "print_score(knn, X_train, y_train, X_test, y_test, train = False) "
   ]
  },
  {
   "cell_type": "code",
   "execution_count": 16,
   "metadata": {},
   "outputs": [],
   "source": [
    "#Predict the response for test dataset\n",
    "y_pred = knn.predict(X_test)"
   ]
  },
  {
   "cell_type": "code",
   "execution_count": 17,
   "metadata": {},
   "outputs": [
    {
     "name": "stdout",
     "output_type": "stream",
     "text": [
      "Accuracy: 0.9411111111111111\n",
      "Precision: 0.7887323943661971\n",
      "Recall: 0.8296296296296296\n"
     ]
    }
   ],
   "source": [
    "#Import scikit-learn metrics module for accuracy calculation\n",
    "from sklearn import metrics\n",
    "# Model Accuracy, how often is the classifier correct?\n",
    "print(\"Accuracy:\",metrics.accuracy_score(y_test, y_pred))\n",
    "# Model Precision\n",
    "print(\"Precision:\",metrics.precision_score(y_test, y_pred))\n",
    "# Model Recall\n",
    "print(\"Recall:\",metrics.recall_score(y_test, y_pred))"
   ]
  },
  {
   "cell_type": "code",
   "execution_count": 18,
   "metadata": {},
   "outputs": [],
   "source": [
    "param_range = np.arange(1, 7, 1)\n",
    "\n",
    "train_score, test_score = validation_curve(KNeighborsClassifier(), X, y, \n",
    "                                       param_name = \"n_neighbors\", \n",
    "                                       param_range = param_range, \n",
    "                                        cv = 10, scoring = \"accuracy\") "
   ]
  },
  {
   "cell_type": "code",
   "execution_count": 19,
   "metadata": {},
   "outputs": [],
   "source": [
    "\n",
    "mean_train_score = np.mean(train_score, axis = 1) \n",
    "std_train_score = np.std(train_score, axis = 1) \n",
    "mean_test_score = np.mean(test_score, axis = 1) \n",
    "std_test_score = np.std(test_score, axis = 1)"
   ]
  },
  {
   "cell_type": "code",
   "execution_count": 20,
   "metadata": {},
   "outputs": [
    {
     "data": {
      "image/png": "[encoded data removed]",
      "text/plain": [
       "<Figure size 432x288 with 1 Axes>"
      ]
     },
     "metadata": {},
     "output_type": "display_data"
    }
   ],
   "source": [
    "plt.plot(param_range, mean_train_score,  \n",
    "     label = \"Training Score\", color = 'b') \n",
    "plt.plot(param_range, mean_test_score, \n",
    "   label = \"Cross Validation Score\", color = 'g') \n",
    "  \n",
    "# Creating the plot \n",
    "plt.title(\"Validation Curve with KNN Classifier\") \n",
    "plt.xlabel(\"Number of Neighbours\") \n",
    "plt.ylabel(\"Accuracy\") \n",
    "plt.tight_layout() \n",
    "plt.legend(loc = 'best') \n",
    "plt.show()"
   ]
  },
  {
   "cell_type": "code",
   "execution_count": null,
   "metadata": {},
   "outputs": [],
   "source": []
  },
  {
   "cell_type": "code",
   "execution_count": null,
   "metadata": {},
   "outputs": [],
   "source": []
  },
  {
   "cell_type": "code",
   "execution_count": null,
   "metadata": {},
   "outputs": [],
   "source": []
  },
  {
   "cell_type": "code",
   "execution_count": null,
   "metadata": {},
   "outputs": [],
   "source": []
  },
  {
   "cell_type": "code",
   "execution_count": null,
   "metadata": {},
   "outputs": [],
   "source": []
  },
  {
   "cell_type": "code",
   "execution_count": null,
   "metadata": {},
   "outputs": [],
   "source": []
  },
  {
   "cell_type": "code",
   "execution_count": null,
   "metadata": {},
   "outputs": [],
   "source": []
  },
  {
   "cell_type": "code",
   "execution_count": null,
   "metadata": {},
   "outputs": [],
   "source": []
  },
  {
   "cell_type": "code",
   "execution_count": null,
   "metadata": {},
   "outputs": [],
   "source": []
  },
  {
   "cell_type": "code",
   "execution_count": null,
   "metadata": {},
   "outputs": [],
   "source": []
  },
  {
   "cell_type": "code",
   "execution_count": null,
   "metadata": {},
   "outputs": [],
   "source": []
  },
  {
   "cell_type": "code",
   "execution_count": null,
   "metadata": {},
   "outputs": [],
   "source": []
  },
  {
   "cell_type": "code",
   "execution_count": null,
   "metadata": {},
   "outputs": [],
   "source": []
  },
  {
   "cell_type": "code",
   "execution_count": null,
   "metadata": {},
   "outputs": [],
   "source": []
  }
 ],
 "metadata": {
  "kernelspec": {
   "display_name": "Python 3",
   "language": "python",
   "name": "python3"
  },
  "language_info": {
   "codemirror_mode": {
    "name": "ipython",
    "version": 3
   },
   "file_extension": ".py",
   "mimetype": "text/x-python",
   "name": "python",
   "nbconvert_exporter": "python",
   "pygments_lexer": "ipython3",
   "version": "3.8.5"
  }
 },
 "nbformat": 4,
 "nbformat_minor": 2
}
